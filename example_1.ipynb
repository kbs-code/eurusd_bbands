{
 "cells": [
  {
   "cell_type": "code",
   "execution_count": null,
   "metadata": {},
   "outputs": [],
   "source": [
    "from backtesting import Backtest, Strategy\n",
    "import pandas as pd\n",
    "import pandas_ta as ta\n",
    "\n",
    "df = pd.read_csv(\"eurusd_d_365_av.csv\")\n",
    "df.set_index(\"datetime\", inplace=True)\n",
    "\n",
    "bbands = df.ta.bbands()\n",
    "bbands.drop([\"BBB_5_2.0\",\"BBP_5_2.0\"], axis=1, inplace=True)\n",
    "#extra datetime index column needs to be dropped.\n",
    "df = pd.concat([df, bbands])\n"
   ]
  },
  {
   "cell_type": "code",
   "execution_count": null,
   "metadata": {},
   "outputs": [],
   "source": [
    "# pseudo code cell\n",
    "\"\"\" class BBMeanReversion(Strategy):\n",
    "    def init(self):\n",
    "        close = self.data.Close\n",
    "    def next(self):\n",
    "        if price >= bbands.upper:\n",
    "            #do something that waits for price to move towards middle band\n",
    "            self.sell()\n",
    "        elif price <= bbands.lower:\n",
    "            #do something that waits for price to move towards middle band\n",
    "            self.buy() \"\"\""
   ]
  },
  {
   "cell_type": "code",
   "execution_count": null,
   "metadata": {},
   "outputs": [],
   "source": [
    "\"\"\" bt = Backtest()\n",
    "output = bt.run()\n",
    "bt.plot() \"\"\"\n"
   ]
  }
 ],
 "metadata": {
  "kernelspec": {
   "display_name": "Python 3",
   "language": "python",
   "name": "python3"
  },
  "language_info": {
   "codemirror_mode": {
    "name": "ipython",
    "version": 3
   },
   "file_extension": ".py",
   "mimetype": "text/x-python",
   "name": "python",
   "nbconvert_exporter": "python",
   "pygments_lexer": "ipython3",
   "version": "3.10.8"
  },
  "orig_nbformat": 4
 },
 "nbformat": 4,
 "nbformat_minor": 2
}
