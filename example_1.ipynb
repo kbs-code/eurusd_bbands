{
 "cells": [
  {
   "cell_type": "code",
   "execution_count": 37,
   "metadata": {},
   "outputs": [
    {
     "name": "stdout",
     "output_type": "stream",
     "text": [
      "               open     high      low    close  BBL_5_2.0  BBM_5_2.0  \\\n",
      "datetime                                                               \n",
      "2023-04-07  1.09188  1.09240  1.08759  1.09014        NaN        NaN   \n",
      "2023-04-06  1.09058  1.09376  1.08830  1.09176        NaN        NaN   \n",
      "2023-04-05  1.09549  1.09696  1.08900  1.09057        NaN        NaN   \n",
      "2023-04-04  1.09011  1.09733  1.08810  1.09540        NaN        NaN   \n",
      "2023-04-03  1.08418  1.09166  1.07870  1.09006   1.087583   1.091586   \n",
      "...             ...      ...      ...      ...        ...        ...   \n",
      "2021-11-19  1.13720  1.13730  1.12480  1.12794   1.117428   1.123306   \n",
      "2021-11-18  1.13192  1.13741  1.13120  1.13710   1.114856   1.126596   \n",
      "2021-11-17  1.13196  1.13323  1.12620  1.13180   1.119049   1.129002   \n",
      "2021-11-16  1.13674  1.13860  1.13070  1.13199   1.121306   1.130446   \n",
      "2021-11-15  1.14452  1.14640  1.13550  1.13672   1.126260   1.133110   \n",
      "\n",
      "            BBU_5_2.0  \n",
      "datetime               \n",
      "2023-04-07        NaN  \n",
      "2023-04-06        NaN  \n",
      "2023-04-05        NaN  \n",
      "2023-04-04        NaN  \n",
      "2023-04-03   1.095589  \n",
      "...               ...  \n",
      "2021-11-19   1.129184  \n",
      "2021-11-18   1.138336  \n",
      "2021-11-17   1.138955  \n",
      "2021-11-16   1.139586  \n",
      "2021-11-15   1.139960  \n",
      "\n",
      "[365 rows x 7 columns]\n"
     ]
    }
   ],
   "source": [
    "from backtesting import Backtest, Strategy\n",
    "import pandas as pd\n",
    "import pandas_ta as ta\n",
    "\n",
    "df = pd.read_csv(\"eurusd_d_365_av.csv\")\n",
    "df.set_index(\"datetime\", inplace=True)\n",
    "\n",
    "bbands = df.ta.bbands()\n",
    "bbands.drop([\"BBB_5_2.0\",\"BBP_5_2.0\"], axis=1, inplace=True)\n",
    "df = pd.concat([df, bbands], axis=1)\n",
    "print(df)\n",
    "\n"
   ]
  },
  {
   "cell_type": "code",
   "execution_count": null,
   "metadata": {},
   "outputs": [],
   "source": [
    "# pseudo code cell\n",
    "\"\"\" class BBMeanReversion(Strategy):\n",
    "    def init(self):\n",
    "        close = self.data.Close\n",
    "    def next(self):\n",
    "        if price >= bbands.upper:\n",
    "            #do something that waits for price to move towards middle band\n",
    "            self.sell()\n",
    "        elif price <= bbands.lower:\n",
    "            #do something that waits for price to move towards middle band\n",
    "            self.buy() \"\"\""
   ]
  },
  {
   "cell_type": "code",
   "execution_count": null,
   "metadata": {},
   "outputs": [],
   "source": [
    "\"\"\" bt = Backtest()\n",
    "output = bt.run()\n",
    "bt.plot() \"\"\"\n"
   ]
  }
 ],
 "metadata": {
  "kernelspec": {
   "display_name": "Python 3",
   "language": "python",
   "name": "python3"
  },
  "language_info": {
   "codemirror_mode": {
    "name": "ipython",
    "version": 3
   },
   "file_extension": ".py",
   "mimetype": "text/x-python",
   "name": "python",
   "nbconvert_exporter": "python",
   "pygments_lexer": "ipython3",
   "version": "3.10.8"
  },
  "orig_nbformat": 4
 },
 "nbformat": 4,
 "nbformat_minor": 2
}
